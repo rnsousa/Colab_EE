{
  "nbformat": 4,
  "nbformat_minor": 0,
  "metadata": {
    "hide_input": false,
    "kernelspec": {
      "display_name": "Python 3",
      "language": "python",
      "name": "python3"
    },
    "language_info": {
      "codemirror_mode": {
        "name": "ipython",
        "version": 3
      },
      "file_extension": ".py",
      "mimetype": "text/x-python",
      "name": "python",
      "nbconvert_exporter": "python",
      "pygments_lexer": "ipython3",
      "version": "3.8.5"
    },
    "toc": {
      "base_numbering": 1,
      "nav_menu": {},
      "number_sections": true,
      "sideBar": true,
      "skip_h1_title": false,
      "title_cell": "Table of Contents",
      "title_sidebar": "Contents",
      "toc_cell": false,
      "toc_position": {},
      "toc_section_display": true,
      "toc_window_display": false
    },
    "colab": {
      "name": "Cópia de 43_extract_values_to_points.ipynb",
      "provenance": [],
      "collapsed_sections": [],
      "include_colab_link": true
    }
  },
  "cells": [
    {
      "cell_type": "markdown",
      "metadata": {
        "id": "view-in-github",
        "colab_type": "text"
      },
      "source": [
        "<a href=\"https://colab.research.google.com/github/rnsousa/Colab_EE/blob/main/C%C3%B3pia_de_43_extract_values_to_points.ipynb\" target=\"_parent\"><img src=\"https://colab.research.google.com/assets/colab-badge.svg\" alt=\"Open In Colab\"/></a>"
      ]
    },
    {
      "cell_type": "markdown",
      "metadata": {
        "id": "YQi-Agm9hkJs"
      },
      "source": [
        "<a href=\"https://githubtocolab.com/giswqs/geemap/blob/master/examples/notebooks/43_extract_values_to_points.ipynb\" target=\"_parent\"><img src=\"https://colab.research.google.com/assets/colab-badge.svg\" alt=\"Open in Colab\"/></a>\n",
        "\n",
        "Uncomment the following line to install [geemap](https://geemap.org) if needed."
      ]
    },
    {
      "cell_type": "code",
      "metadata": {
        "id": "veldnjRWhkJ1"
      },
      "source": [
        " !pip install geemap"
      ],
      "execution_count": null,
      "outputs": []
    },
    {
      "cell_type": "code",
      "metadata": {
        "id": "TawG6qHxhkJ2"
      },
      "source": [
        "import os\n",
        "import ee\n",
        "import geemap"
      ],
      "execution_count": null,
      "outputs": []
    },
    {
      "cell_type": "markdown",
      "metadata": {
        "id": "oVhhCNtKhkJ3"
      },
      "source": [
        "Upgrade geemap to the latest version"
      ]
    },
    {
      "cell_type": "code",
      "metadata": {
        "colab": {
          "base_uri": "https://localhost:8080/"
        },
        "id": "1DsG2fRhhkJ3",
        "outputId": "b7856939-ffa8-4649-db80-95f0ba1501f6"
      },
      "source": [
        "geemap.update_package()"
      ],
      "execution_count": null,
      "outputs": [
        {
          "output_type": "stream",
          "text": [
            "Downloading https://github.com/giswqs/geemap/archive/master.zip ...\n",
            "Unzipping geemap-master.zip ...\n",
            "Data downloaded to: /root/Downloads/geemap-master\n",
            "\n",
            "Please comment out 'geemap.update_package()' and restart the kernel to take effect:\n",
            "Jupyter menu -> Kernel -> Restart & Clear Output\n"
          ],
          "name": "stdout"
        }
      ]
    },
    {
      "cell_type": "code",
      "metadata": {
        "id": "Jo1cDeKghkJ4"
      },
      "source": [
        "Map = geemap.Map()"
      ],
      "execution_count": null,
      "outputs": []
    },
    {
      "cell_type": "code",
      "metadata": {
        "id": "fJGIaNQ7hkJ4"
      },
      "source": [
        "# Add Earth Engine dataset\n",
        "# Soilgrids dataset https://git.wur.nl/isric/soilgrids/soilgrids.notebooks/-/blob/master/markdown/access_on_gee.md\n",
        "dem = ee.Image('USGS/SRTMGL1_003')\n",
        "#soil = ee.Image(\"projects/soilgrids-isric/soc_mean\");\n",
        "soc_mean = ee.Image('projects/soilgrids-isric/soc_mean')\n",
        "print(soc_mean)\n",
        "\n",
        "# Set visualization parameters.\n",
        "vis_params = {\n",
        "  'min': 0,\n",
        "  'max': 100,\n",
        "  'palette': ['006633', 'E5FFCC', '662A00', 'D8D8D8', 'F5F5F5']}\n",
        "\n",
        "Map.setCenter(-64.8, -3, 8);\n",
        "Map.addLayer(soc_mean.select('soc_0-5cm_mean'),{min: 5, max: 10},'SoilGrids250m 2.0 - Sand content ISRIC_0_5cm')\n",
        "\n",
        "#Set basemap to Hybrid view\n",
        "#Map.setOptions('HYBRID')\n",
        "#Map.addLayer(dem, vis_params, 'SRTM DEM', True, 1)\n",
        "#Map"
      ],
      "execution_count": null,
      "outputs": []
    },
    {
      "cell_type": "markdown",
      "metadata": {
        "id": "VbzEcAD5hkJ5"
      },
      "source": [
        "Download sample data"
      ]
    },
    {
      "cell_type": "code",
      "metadata": {
        "id": "tHMexZWh5b5O"
      },
      "source": [
        "ee_coord = ee.Geometry.MultiPoint([-49.4548067,-28.5375093])"
      ],
      "execution_count": null,
      "outputs": []
    },
    {
      "cell_type": "code",
      "metadata": {
        "colab": {
          "base_uri": "https://localhost:8080/"
        },
        "id": "dwbY4M5bhkJ5",
        "outputId": "01a1413b-f286-49dc-ec89-3ac58967122e"
      },
      "source": [
        "work_dir = os.path.expanduser('~/Downloads')\n",
        "in_shp = os.path.join(work_dir, 'us_cities.shp')\n",
        "if not os.path.exists(in_shp):\n",
        "    data_url = 'https://github.com/giswqs/data/raw/main/us/us_cities.zip'\n",
        "    geemap.download_from_url(data_url, out_dir=work_dir )"
      ],
      "execution_count": null,
      "outputs": [
        {
          "output_type": "stream",
          "text": [
            "Downloading https://github.com/giswqs/data/raw/main/us/us_cities.zip ...\n",
            "Unzipping us_cities.zip ...\n",
            "Data downloaded to: /root/Downloads/us_cities\n"
          ],
          "name": "stdout"
        }
      ]
    },
    {
      "cell_type": "code",
      "metadata": {
        "id": "BzCDVVSYhkJ6"
      },
      "source": [
        "in_fc = geemap.shp_to_ee(in_shp)\n",
        "Map.addLayer(in_fc, {}, 'Cities')\n",
        "Map"
      ],
      "execution_count": null,
      "outputs": []
    },
    {
      "cell_type": "markdown",
      "metadata": {
        "id": "tI8bWNPBhkJ6"
      },
      "source": [
        "Export pixel values as a shapefile"
      ]
    },
    {
      "cell_type": "code",
      "metadata": {
        "colab": {
          "base_uri": "https://localhost:8080/"
        },
        "id": "QUolsBYchkJ9",
        "outputId": "e8546b63-daf7-49b4-8211-a75e6d9579ff"
      },
      "source": [
        "out_shp = os.path.join(work_dir, 'dem.shp')\n",
        "geemap.extract_values_to_points(in_fc, dem, out_shp)"
      ],
      "execution_count": null,
      "outputs": [
        {
          "output_type": "stream",
          "text": [
            "Generating URL ...\n",
            "Downloading data from https://earthengine.googleapis.com/v1alpha/projects/earthengine-legacy/tables/0515111a67c25014a7945d6d1a11a5a6-f34a31c875a1566dba2daad8ee12071a:getFeatures\n",
            "Please wait ...\n",
            "Data downloaded to /root/Downloads/dem.shp\n"
          ],
          "name": "stdout"
        }
      ]
    },
    {
      "cell_type": "markdown",
      "metadata": {
        "id": "rUlJr8DchkJ9"
      },
      "source": [
        "Export pixel values as a csv"
      ]
    },
    {
      "cell_type": "code",
      "metadata": {
        "colab": {
          "base_uri": "https://localhost:8080/"
        },
        "id": "Tg1RkdkyhkJ9",
        "outputId": "b24627e0-ff42-4d61-f04e-cdd62d9669b8"
      },
      "source": [
        "out_csv = os.path.join(work_dir, 'soc_mean.csv')\n",
        "geemap.extract_values_to_points(in_fc, soc_mean, out_csv)"
      ],
      "execution_count": null,
      "outputs": [
        {
          "output_type": "stream",
          "text": [
            "Generating URL ...\n",
            "Downloading data from https://earthengine.googleapis.com/v1alpha/projects/earthengine-legacy/tables/58fd7eae69d2b92718e9baca3eeafbc5-a3cdff379387d6afde9e3eadd23e4826:getFeatures\n",
            "Please wait ...\n",
            "Data downloaded to /root/Downloads/soc_mean.csv\n"
          ],
          "name": "stdout"
        }
      ]
    },
    {
      "cell_type": "code",
      "metadata": {
        "id": "PVZvZjGT7VlJ"
      },
      "source": [
        "!cd /root/Downloads/"
      ],
      "execution_count": null,
      "outputs": []
    },
    {
      "cell_type": "code",
      "metadata": {
        "id": "wS-N-wH77qiB",
        "colab": {
          "base_uri": "https://localhost:8080/"
        },
        "outputId": "0572c3ca-be8b-4bba-d6f4-f6379abcb82b"
      },
      "source": [
        "!ls"
      ],
      "execution_count": null,
      "outputs": [
        {
          "output_type": "stream",
          "text": [
            "sample_data\n"
          ],
          "name": "stdout"
        }
      ]
    },
    {
      "cell_type": "code",
      "metadata": {
        "id": "0nm6sxex7sYL"
      },
      "source": [
        ""
      ],
      "execution_count": null,
      "outputs": []
    }
  ]
}